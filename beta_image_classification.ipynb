{
 "cells": [
  {
   "cell_type": "code",
   "execution_count": 2,
   "id": "74a39f61",
   "metadata": {},
   "outputs": [],
   "source": [
    "import pandas as pd\n",
    "import numpy as np\n",
    "import matplotlib.pyplot as plt\n",
    "import seaborn as sns\n",
    "import nibabel as nib"
   ]
  },
  {
   "cell_type": "markdown",
   "id": "f9a2f86f",
   "metadata": {},
   "source": [
    "# Our labels\n",
    "Below is a summary tabe of the experiments. For each file (beta(0...246) we have a label (0,1) that indicates whether the participant cooperated or ot"
   ]
  },
  {
   "cell_type": "code",
   "execution_count": 3,
   "id": "cb06d520",
   "metadata": {},
   "outputs": [
    {
     "name": "stdout",
     "output_type": "stream",
     "text": [
      "(191, 10)\n"
     ]
    },
    {
     "data": {
      "text/html": [
       "<div>\n",
       "<style scoped>\n",
       "    .dataframe tbody tr th:only-of-type {\n",
       "        vertical-align: middle;\n",
       "    }\n",
       "\n",
       "    .dataframe tbody tr th {\n",
       "        vertical-align: top;\n",
       "    }\n",
       "\n",
       "    .dataframe thead th {\n",
       "        text-align: right;\n",
       "    }\n",
       "</style>\n",
       "<table border=\"1\" class=\"dataframe\">\n",
       "  <thead>\n",
       "    <tr style=\"text-align: right;\">\n",
       "      <th></th>\n",
       "      <th>Unnamed: 0</th>\n",
       "      <th>index</th>\n",
       "      <th>Var1</th>\n",
       "      <th>files</th>\n",
       "      <th>len</th>\n",
       "      <th>0</th>\n",
       "      <th>1</th>\n",
       "      <th>2</th>\n",
       "      <th>3</th>\n",
       "      <th>labels</th>\n",
       "    </tr>\n",
       "  </thead>\n",
       "  <tbody>\n",
       "    <tr>\n",
       "      <th>0</th>\n",
       "      <td>0</td>\n",
       "      <td>0</td>\n",
       "      <td>Sn(1) choice_tr1_defect_R+S-*bf(1)</td>\n",
       "      <td>beta_0001.nii</td>\n",
       "      <td>34</td>\n",
       "      <td>Sn(1) choice</td>\n",
       "      <td>tr1</td>\n",
       "      <td>defect</td>\n",
       "      <td>R+S-*bf(1)</td>\n",
       "      <td>0</td>\n",
       "    </tr>\n",
       "    <tr>\n",
       "      <th>1</th>\n",
       "      <td>1</td>\n",
       "      <td>1</td>\n",
       "      <td>Sn(1) choice_tr2_cooperate_R+S+*bf(1)</td>\n",
       "      <td>beta_0002.nii</td>\n",
       "      <td>37</td>\n",
       "      <td>Sn(1) choice</td>\n",
       "      <td>tr2</td>\n",
       "      <td>cooperate</td>\n",
       "      <td>R+S+*bf(1)</td>\n",
       "      <td>1</td>\n",
       "    </tr>\n",
       "    <tr>\n",
       "      <th>2</th>\n",
       "      <td>2</td>\n",
       "      <td>2</td>\n",
       "      <td>Sn(1) choice_tr3_cooperate_R+S-*bf(1)</td>\n",
       "      <td>beta_0003.nii</td>\n",
       "      <td>37</td>\n",
       "      <td>Sn(1) choice</td>\n",
       "      <td>tr3</td>\n",
       "      <td>cooperate</td>\n",
       "      <td>R+S-*bf(1)</td>\n",
       "      <td>1</td>\n",
       "    </tr>\n",
       "    <tr>\n",
       "      <th>3</th>\n",
       "      <td>3</td>\n",
       "      <td>3</td>\n",
       "      <td>Sn(1) choice_tr4_defect_R-S-*bf(1)</td>\n",
       "      <td>beta_0004.nii</td>\n",
       "      <td>34</td>\n",
       "      <td>Sn(1) choice</td>\n",
       "      <td>tr4</td>\n",
       "      <td>defect</td>\n",
       "      <td>R-S-*bf(1)</td>\n",
       "      <td>0</td>\n",
       "    </tr>\n",
       "    <tr>\n",
       "      <th>4</th>\n",
       "      <td>4</td>\n",
       "      <td>4</td>\n",
       "      <td>Sn(1) choice_tr5_defect_R-S+*bf(1)</td>\n",
       "      <td>beta_0005.nii</td>\n",
       "      <td>34</td>\n",
       "      <td>Sn(1) choice</td>\n",
       "      <td>tr5</td>\n",
       "      <td>defect</td>\n",
       "      <td>R-S+*bf(1)</td>\n",
       "      <td>0</td>\n",
       "    </tr>\n",
       "  </tbody>\n",
       "</table>\n",
       "</div>"
      ],
      "text/plain": [
       "   Unnamed: 0  index                                   Var1          files  \\\n",
       "0           0      0     Sn(1) choice_tr1_defect_R+S-*bf(1)  beta_0001.nii   \n",
       "1           1      1  Sn(1) choice_tr2_cooperate_R+S+*bf(1)  beta_0002.nii   \n",
       "2           2      2  Sn(1) choice_tr3_cooperate_R+S-*bf(1)  beta_0003.nii   \n",
       "3           3      3     Sn(1) choice_tr4_defect_R-S-*bf(1)  beta_0004.nii   \n",
       "4           4      4     Sn(1) choice_tr5_defect_R-S+*bf(1)  beta_0005.nii   \n",
       "\n",
       "   len             0    1          2           3  labels  \n",
       "0   34  Sn(1) choice  tr1     defect  R+S-*bf(1)       0  \n",
       "1   37  Sn(1) choice  tr2  cooperate  R+S+*bf(1)       1  \n",
       "2   37  Sn(1) choice  tr3  cooperate  R+S-*bf(1)       1  \n",
       "3   34  Sn(1) choice  tr4     defect  R-S-*bf(1)       0  \n",
       "4   34  Sn(1) choice  tr5     defect  R-S+*bf(1)       0  "
      ]
     },
     "execution_count": 3,
     "metadata": {},
     "output_type": "execute_result"
    }
   ],
   "source": [
    "data_table_brain = pd.read_parquet(\"intermediate_data/data_table_brain.gzip\")\n",
    "beta_df = pd.read_csv(\"intermediate_data/beta_df.csv\")\n",
    "print(beta_df.shape)\n",
    "beta_df.head()\n",
    "# pip install fastparquet # if it doesnt work"
   ]
  },
  {
   "cell_type": "markdown",
   "id": "86cf3c93",
   "metadata": {},
   "source": [
    "# Our data\n",
    "Below is the table that we extracted from the fMRI images.\n",
    "We converted the images to a table with x,y,z coordinates and intensity values for every voxel.\n",
    "Each beta(0...246) is one trial \n",
    "One trial is around 5 images that were compressed into one image by convolution with blood oxygen level response function (BOLD)"
   ]
  },
  {
   "cell_type": "code",
   "execution_count": 4,
   "id": "22ef2e3d",
   "metadata": {},
   "outputs": [
    {
     "name": "stdout",
     "output_type": "stream",
     "text": [
      "(41712, 196)\n"
     ]
    },
    {
     "data": {
      "text/html": [
       "<div>\n",
       "<style scoped>\n",
       "    .dataframe tbody tr th:only-of-type {\n",
       "        vertical-align: middle;\n",
       "    }\n",
       "\n",
       "    .dataframe tbody tr th {\n",
       "        vertical-align: top;\n",
       "    }\n",
       "\n",
       "    .dataframe thead th {\n",
       "        text-align: right;\n",
       "    }\n",
       "</style>\n",
       "<table border=\"1\" class=\"dataframe\">\n",
       "  <thead>\n",
       "    <tr style=\"text-align: right;\">\n",
       "      <th></th>\n",
       "      <th>index</th>\n",
       "      <th>x</th>\n",
       "      <th>y</th>\n",
       "      <th>z</th>\n",
       "      <th>brain_mask</th>\n",
       "      <th>beta0</th>\n",
       "      <th>beta1</th>\n",
       "      <th>beta2</th>\n",
       "      <th>beta3</th>\n",
       "      <th>beta4</th>\n",
       "      <th>...</th>\n",
       "      <th>beta181</th>\n",
       "      <th>beta182</th>\n",
       "      <th>beta183</th>\n",
       "      <th>beta184</th>\n",
       "      <th>beta185</th>\n",
       "      <th>beta186</th>\n",
       "      <th>beta187</th>\n",
       "      <th>beta188</th>\n",
       "      <th>beta189</th>\n",
       "      <th>beta190</th>\n",
       "    </tr>\n",
       "  </thead>\n",
       "  <tbody>\n",
       "    <tr>\n",
       "      <th>0</th>\n",
       "      <td>23149</td>\n",
       "      <td>7</td>\n",
       "      <td>18</td>\n",
       "      <td>29</td>\n",
       "      <td>1.0</td>\n",
       "      <td>2.185793</td>\n",
       "      <td>0.216214</td>\n",
       "      <td>0.898458</td>\n",
       "      <td>-0.767733</td>\n",
       "      <td>0.980242</td>\n",
       "      <td>...</td>\n",
       "      <td>1.751049</td>\n",
       "      <td>2.173206</td>\n",
       "      <td>-0.770652</td>\n",
       "      <td>-0.555270</td>\n",
       "      <td>2.946541</td>\n",
       "      <td>0.775639</td>\n",
       "      <td>-0.083898</td>\n",
       "      <td>2.876902</td>\n",
       "      <td>-1.708210</td>\n",
       "      <td>-6.542468</td>\n",
       "    </tr>\n",
       "    <tr>\n",
       "      <th>1</th>\n",
       "      <td>23150</td>\n",
       "      <td>7</td>\n",
       "      <td>18</td>\n",
       "      <td>30</td>\n",
       "      <td>1.0</td>\n",
       "      <td>2.262514</td>\n",
       "      <td>0.176321</td>\n",
       "      <td>1.067624</td>\n",
       "      <td>-0.753252</td>\n",
       "      <td>1.558099</td>\n",
       "      <td>...</td>\n",
       "      <td>0.949927</td>\n",
       "      <td>2.077133</td>\n",
       "      <td>-1.343127</td>\n",
       "      <td>-0.579337</td>\n",
       "      <td>3.244278</td>\n",
       "      <td>2.489923</td>\n",
       "      <td>0.354420</td>\n",
       "      <td>2.482962</td>\n",
       "      <td>-1.911663</td>\n",
       "      <td>-7.082224</td>\n",
       "    </tr>\n",
       "    <tr>\n",
       "      <th>2</th>\n",
       "      <td>23155</td>\n",
       "      <td>7</td>\n",
       "      <td>18</td>\n",
       "      <td>35</td>\n",
       "      <td>1.0</td>\n",
       "      <td>1.409987</td>\n",
       "      <td>0.308808</td>\n",
       "      <td>1.552267</td>\n",
       "      <td>2.061087</td>\n",
       "      <td>1.836347</td>\n",
       "      <td>...</td>\n",
       "      <td>0.746239</td>\n",
       "      <td>1.372045</td>\n",
       "      <td>1.485866</td>\n",
       "      <td>3.634712</td>\n",
       "      <td>3.846372</td>\n",
       "      <td>6.075477</td>\n",
       "      <td>0.973503</td>\n",
       "      <td>0.920017</td>\n",
       "      <td>-1.207945</td>\n",
       "      <td>-4.028594</td>\n",
       "    </tr>\n",
       "    <tr>\n",
       "      <th>3</th>\n",
       "      <td>23156</td>\n",
       "      <td>7</td>\n",
       "      <td>18</td>\n",
       "      <td>36</td>\n",
       "      <td>1.0</td>\n",
       "      <td>0.969699</td>\n",
       "      <td>-0.110201</td>\n",
       "      <td>1.039446</td>\n",
       "      <td>2.290150</td>\n",
       "      <td>1.154906</td>\n",
       "      <td>...</td>\n",
       "      <td>1.111888</td>\n",
       "      <td>0.921008</td>\n",
       "      <td>-0.040704</td>\n",
       "      <td>2.912729</td>\n",
       "      <td>2.266409</td>\n",
       "      <td>4.096661</td>\n",
       "      <td>0.770709</td>\n",
       "      <td>1.018212</td>\n",
       "      <td>-1.520981</td>\n",
       "      <td>-1.951829</td>\n",
       "    </tr>\n",
       "    <tr>\n",
       "      <th>4</th>\n",
       "      <td>23229</td>\n",
       "      <td>7</td>\n",
       "      <td>20</td>\n",
       "      <td>29</td>\n",
       "      <td>1.0</td>\n",
       "      <td>1.887761</td>\n",
       "      <td>0.605765</td>\n",
       "      <td>0.851713</td>\n",
       "      <td>0.236050</td>\n",
       "      <td>1.783170</td>\n",
       "      <td>...</td>\n",
       "      <td>1.377842</td>\n",
       "      <td>1.957112</td>\n",
       "      <td>-0.367890</td>\n",
       "      <td>0.924748</td>\n",
       "      <td>2.684568</td>\n",
       "      <td>2.028383</td>\n",
       "      <td>0.284075</td>\n",
       "      <td>1.735687</td>\n",
       "      <td>-1.399973</td>\n",
       "      <td>-6.692441</td>\n",
       "    </tr>\n",
       "  </tbody>\n",
       "</table>\n",
       "<p>5 rows × 196 columns</p>\n",
       "</div>"
      ],
      "text/plain": [
       "   index  x   y   z  brain_mask     beta0     beta1     beta2     beta3  \\\n",
       "0  23149  7  18  29         1.0  2.185793  0.216214  0.898458 -0.767733   \n",
       "1  23150  7  18  30         1.0  2.262514  0.176321  1.067624 -0.753252   \n",
       "2  23155  7  18  35         1.0  1.409987  0.308808  1.552267  2.061087   \n",
       "3  23156  7  18  36         1.0  0.969699 -0.110201  1.039446  2.290150   \n",
       "4  23229  7  20  29         1.0  1.887761  0.605765  0.851713  0.236050   \n",
       "\n",
       "      beta4  ...   beta181   beta182   beta183   beta184   beta185   beta186  \\\n",
       "0  0.980242  ...  1.751049  2.173206 -0.770652 -0.555270  2.946541  0.775639   \n",
       "1  1.558099  ...  0.949927  2.077133 -1.343127 -0.579337  3.244278  2.489923   \n",
       "2  1.836347  ...  0.746239  1.372045  1.485866  3.634712  3.846372  6.075477   \n",
       "3  1.154906  ...  1.111888  0.921008 -0.040704  2.912729  2.266409  4.096661   \n",
       "4  1.783170  ...  1.377842  1.957112 -0.367890  0.924748  2.684568  2.028383   \n",
       "\n",
       "    beta187   beta188   beta189   beta190  \n",
       "0 -0.083898  2.876902 -1.708210 -6.542468  \n",
       "1  0.354420  2.482962 -1.911663 -7.082224  \n",
       "2  0.973503  0.920017 -1.207945 -4.028594  \n",
       "3  0.770709  1.018212 -1.520981 -1.951829  \n",
       "4  0.284075  1.735687 -1.399973 -6.692441  \n",
       "\n",
       "[5 rows x 196 columns]"
      ]
     },
     "execution_count": 4,
     "metadata": {},
     "output_type": "execute_result"
    }
   ],
   "source": [
    "print(data_table_brain.shape)\n",
    "data_table_brain.head()"
   ]
  },
  {
   "cell_type": "markdown",
   "id": "a3967792",
   "metadata": {},
   "source": [
    "### Create training data and lables\n"
   ]
  },
  {
   "cell_type": "code",
   "execution_count": 24,
   "id": "2ca03d9d",
   "metadata": {},
   "outputs": [
    {
     "name": "stdout",
     "output_type": "stream",
     "text": [
      "(143, 41712)\n"
     ]
    },
    {
     "data": {
      "text/plain": [
       "numpy.ndarray"
      ]
     },
     "execution_count": 24,
     "metadata": {},
     "output_type": "execute_result"
    }
   ],
   "source": [
    "Xdata = np.array(data_table_brain.iloc[:,5:]).T\n",
    "print(X.shape)\n",
    "type(X)"
   ]
  },
  {
   "cell_type": "code",
   "execution_count": 25,
   "id": "059bb398",
   "metadata": {},
   "outputs": [
    {
     "name": "stdout",
     "output_type": "stream",
     "text": [
      "(143,)\n"
     ]
    },
    {
     "data": {
      "text/plain": [
       "numpy.ndarray"
      ]
     },
     "execution_count": 25,
     "metadata": {},
     "output_type": "execute_result"
    }
   ],
   "source": [
    "Ydata = np.array(beta_df[\"labels\"])\n",
    "print(Y.shape)\n",
    "type(Y)"
   ]
  },
  {
   "cell_type": "code",
   "execution_count": null,
   "id": "c899ed1a",
   "metadata": {},
   "outputs": [],
   "source": []
  },
  {
   "cell_type": "code",
   "execution_count": 7,
   "id": "ceedbe36",
   "metadata": {},
   "outputs": [
    {
     "data": {
      "image/png": "[encoded data removed]",
      "text/plain": [
       "<Figure size 720x576 with 6 Axes>"
      ]
     },
     "metadata": {
      "needs_background": "light"
     },
     "output_type": "display_data"
    }
   ],
   "source": [
    "plt.figure(figsize=(10,8))\n",
    "for i in range(1,7):\n",
    "    plt.subplot(2,3,i)\n",
    "    plt.plot(X[i,:])"
   ]
  },
  {
   "cell_type": "code",
   "execution_count": 8,
   "id": "e1b79c44",
   "metadata": {},
   "outputs": [
    {
     "data": {
      "text/plain": [
       "[<matplotlib.lines.Line2D at 0x2381585d9a0>]"
      ]
     },
     "execution_count": 8,
     "metadata": {},
     "output_type": "execute_result"
    },
    {
     "data": {
      "image/png": "[encoded data removed]",
      "text/plain": [
       "<Figure size 432x288 with 1 Axes>"
      ]
     },
     "metadata": {
      "needs_background": "light"
     },
     "output_type": "display_data"
    }
   ],
   "source": [
    "plt.plot(X[10:100,10])"
   ]
  },
  {
   "cell_type": "code",
   "execution_count": 9,
   "id": "9e0f1962",
   "metadata": {},
   "outputs": [],
   "source": [
    "from sklearn.decomposition import PCA\n",
    "from sklearn.preprocessing import StandardScaler\n",
    "from sklearn.model_selection import train_test_split\n",
    "from sklearn.ensemble import RandomForestClassifier\n",
    "from sklearn.metrics import accuracy_score\n",
    "from sklearn.model_selection import train_test_split\n",
    "from sklearn import datasets\n",
    "from sklearn import svm\n",
    "from sklearn.model_selection import cross_val_score\n",
    "from sklearn.model_selection import KFold\n",
    "import time\n",
    "import os\n",
    "from scipy.stats import norm"
   ]
  },
  {
   "cell_type": "markdown",
   "id": "c333ead6",
   "metadata": {},
   "source": [
    "# Random Forest on entire data\n",
    "Just below is the  code we used to generate the rf predictions based on all data for one patient"
   ]
  },
  {
   "cell_type": "code",
   "execution_count": 37,
   "id": "0d40014f",
   "metadata": {},
   "outputs": [],
   "source": [
    "# This is the code\n",
    "clf = RandomForestClassifier(200)\n",
    "acc = cross_val_score(clf, Xdata, Ydata, cv=KFold(n_splits=4, random_state=None, shuffle=False))"
   ]
  },
  {
   "cell_type": "code",
   "execution_count": 38,
   "id": "5d983ca2",
   "metadata": {},
   "outputs": [
    {
     "data": {
      "text/plain": [
       "0.5342420212765957"
      ]
     },
     "execution_count": 38,
     "metadata": {},
     "output_type": "execute_result"
    }
   ],
   "source": [
    "np.mean(acc)"
   ]
  },
  {
   "cell_type": "code",
   "execution_count": 22,
   "id": "1957b207",
   "metadata": {},
   "outputs": [
    {
     "data": {
      "text/plain": [
       "0.5208333333333334"
      ]
     },
     "execution_count": 22,
     "metadata": {},
     "output_type": "execute_result"
    }
   ],
   "source": [
    "# this is just one run\n",
    "X,x,Y,y = train_test_split(Xdata,Ydata)\n",
    "clf = RandomForestClassifier()\n",
    "clf.fit(X,Y)\n",
    "y_pred = clf.predict(x)\n",
    "accuracy_score(y_pred, y)"
   ]
  },
  {
   "cell_type": "markdown",
   "id": "8425919b",
   "metadata": {},
   "source": [
    "### Dimensionality reduction\n",
    "Besides training on the entire data I aso played around with PCA and training on them"
   ]
  },
  {
   "cell_type": "code",
   "execution_count": 10,
   "id": "ff0e3dd0",
   "metadata": {},
   "outputs": [
    {
     "data": {
      "text/plain": [
       "(191, 41712)"
      ]
     },
     "execution_count": 10,
     "metadata": {},
     "output_type": "execute_result"
    }
   ],
   "source": [
    "scaler = StandardScaler()\n",
    "X = scaler.fit_transform(X)\n",
    "X.shape"
   ]
  },
  {
   "cell_type": "code",
   "execution_count": 11,
   "id": "48428731",
   "metadata": {},
   "outputs": [
    {
     "data": {
      "text/plain": [
       "(191, 25)"
      ]
     },
     "execution_count": 11,
     "metadata": {},
     "output_type": "execute_result"
    }
   ],
   "source": [
    "pca = PCA(n_components=25)\n",
    "Xpca = pca.fit_transform(X)\n",
    "Xpca.shape"
   ]
  },
  {
   "cell_type": "code",
   "execution_count": 12,
   "id": "a9d71917",
   "metadata": {},
   "outputs": [],
   "source": [
    "res = pd.DataFrame(Xpca)\n",
    "res[\"y\"] = Y"
   ]
  },
  {
   "cell_type": "code",
   "execution_count": 13,
   "id": "cdfb13de",
   "metadata": {},
   "outputs": [
    {
     "data": {
      "text/plain": [
       "<AxesSubplot:xlabel='0', ylabel='1'>"
      ]
     },
     "execution_count": 13,
     "metadata": {},
     "output_type": "execute_result"
    },
    {
     "data": {
      "image/png": "[encoded data removed]",
      "text/plain": [
       "<Figure size 432x288 with 1 Axes>"
      ]
     },
     "metadata": {
      "needs_background": "light"
     },
     "output_type": "display_data"
    }
   ],
   "source": [
    "sns.scatterplot(data=res, x=0, y=1, hue=\"y\")"
   ]
  },
  {
   "cell_type": "code",
   "execution_count": 14,
   "id": "f92cf453",
   "metadata": {},
   "outputs": [
    {
     "data": {
      "text/plain": [
       "[<matplotlib.lines.Line2D at 0x238140b7760>]"
      ]
     },
     "execution_count": 14,
     "metadata": {},
     "output_type": "execute_result"
    },
    {
     "data": {
      "image/png": "[encoded data removed]",
      "text/plain": [
       "<Figure size 432x288 with 1 Axes>"
      ]
     },
     "metadata": {
      "needs_background": "light"
     },
     "output_type": "display_data"
    }
   ],
   "source": [
    "plt.plot(pca.explained_variance_ratio_)"
   ]
  },
  {
   "cell_type": "markdown",
   "id": "5dcc6fe8",
   "metadata": {},
   "source": [
    "## Repeat with masks\n",
    "\n",
    "Here I use the brain atlas masks on the normalized beta images for predictions."
   ]
  },
  {
   "cell_type": "code",
   "execution_count": 15,
   "id": "3de266ef",
   "metadata": {},
   "outputs": [
    {
     "name": "stdout",
     "output_type": "stream",
     "text": [
      "BN_Atlas_246_2mm.nii\n",
      "TPJ_Mask.nii\n",
      "output_atlas.nii\n"
     ]
    }
   ],
   "source": [
    "!ls masks"
   ]
  },
  {
   "cell_type": "code",
   "execution_count": 16,
   "id": "0f78b59a",
   "metadata": {},
   "outputs": [],
   "source": [
    "masks = \"masks/BN_Atlas_246_2mm.nii\"\n",
    "files_normed = \"subj02/1stLevel_nob0_norm_MVPA_trial_smooth/\"\n",
    "files = \"subj02/1stLevel_nob0_MVPA_trial_smooth/\""
   ]
  },
  {
   "cell_type": "code",
   "execution_count": 17,
   "id": "cbe0037f",
   "metadata": {},
   "outputs": [],
   "source": [
    "# defining import functions for mask and nib files\n",
    "\n",
    "def getmask(name):\n",
    "    mask_im = nib.load(\"masks/\"+name)\n",
    "    mask = mask_im.get_fdata()\n",
    "    return mask\n",
    "\n",
    "def nibim(name, subj=\"02\"):\n",
    "    files_normed = f'subj{subj}/1stLevel_nob0_norm_MVPA_trial_smooth/'\n",
    "    beta_path = files_normed + name\n",
    "    nimage = nib.load(beta_path)\n",
    "    return nimage.get_fdata()\n"
   ]
  },
  {
   "cell_type": "code",
   "execution_count": 18,
   "id": "ca79d025",
   "metadata": {},
   "outputs": [
    {
     "name": "stdout",
     "output_type": "stream",
     "text": [
      "shape (53, 63, 52)\n"
     ]
    }
   ],
   "source": [
    "# Import the atlas mask\n",
    "# values are not exact int (prob because of normalization/preprocessing?)\n",
    "\n",
    "atlasmask = getmask(\"output_atlas.nii\")\n",
    "atlasmask = atlasmask.round()\n",
    "print(\"shape \" + str(atlasmask.shape))"
   ]
  },
  {
   "cell_type": "markdown",
   "id": "9a57f023",
   "metadata": {},
   "source": [
    "### Do the prediction loop"
   ]
  },
  {
   "cell_type": "code",
   "execution_count": 19,
   "id": "d309dda9",
   "metadata": {},
   "outputs": [],
   "source": [
    "def mask_prediction_loop(subj=\"02\", mode=\"svm\", verbose=False):\n",
    "    \"\"\"\n",
    "    This function loops over the different masks in the brain atlas mask\n",
    "    For each masks it reads the data from all the beta images and performs classificaiton with svm or rf calsssifier.\n",
    "    Results are written to a lof file.\n",
    "    \n",
    "    param subj: the subject (02 or 07)\n",
    "    param mode: classifiaction mode (svm or rf (= random forest))\n",
    "    \"\"\"\n",
    "    \n",
    "    betas = pd.read_csv(\"intermediate_data/beta_df.csv\") # these are the names of the ebta images that we use\n",
    "    image_mask = getmask(\"output_atlas.nii\")\n",
    "    image_mask = image_mask.round()\n",
    "    areas = set(image_mask.flatten()) # unique numbers of the mask file, each number is a different brain region\n",
    "    betafiles = betas[\"files\"].to_list()\n",
    "    y_true = betas[\"labels\"].to_list()\n",
    "\n",
    "    # The results are written to a text file\n",
    "    time_string = time.ctime().replace(\" \",\"\").replace(\":\",\"\") # so we dont overwrite previous files\n",
    "    log_file_name = f'subj{subj}_{mode}_result_log_{time_string}.txt'\n",
    "    \n",
    "    beta_files = f'subj{subj}/1stLevel_nob0_norm_MVPA_trial_smooth/'\n",
    "    \n",
    "    if not os.path.exists(beta_files):\n",
    "        print(\"beta files path not found?\")\n",
    "        print(beta_files)\n",
    "        return None\n",
    "    \n",
    "    with open(log_file_name, \"w\") as file:\n",
    "        for area in areas:\n",
    "            df = pd.DataFrame()\n",
    "            \n",
    "            for b in betafiles:\n",
    "                try:\n",
    "                    beta_im = nibim(b, subj)\n",
    "                except FileNotFoundError:\n",
    "                    print(\"couldnt find file: \" + b)\n",
    "                    continue\n",
    "                subset = beta_im[image_mask==area]\n",
    "                df[b] = subset\n",
    "                \n",
    "            # classify\n",
    "            nanas = df.isna().sum().sum()\n",
    "            \n",
    "            if nanas>0:\n",
    "                df = df.dropna()\n",
    "                if verbose:\n",
    "                    print(\"Area: \"+str(area))\n",
    "                    print(\"dropped NaNs: \"+ str(nanas))\n",
    "\n",
    "                \n",
    "            if mode==\"rf\":\n",
    "                X_train, x_test, Y_train, y_test = train_test_split(df.T,y_true)\n",
    "                clf = RandomForestClassifier(n_estimators=100, max_depth=2, random_state=0, min_samples_leaf=8)\n",
    "                clf.fit(X_train, Y_train)\n",
    "                y_pred = clf.predict(x_test)\n",
    "                acc = accuracy_score(y_pred, y_test)\n",
    "\n",
    "            elif mode==\"svm\":                   \n",
    "                clf = svm.SVC(kernel='linear', C=1, random_state=42)\n",
    "                acc = cross_val_score(clf, df.T, y_true, cv=KFold(n_splits=4, random_state=None, shuffle=False))\n",
    "            else:\n",
    "                print(f'not defined mode {mode}')\n",
    "\n",
    "            if verbose:\n",
    "                print(acc)\n",
    "\n",
    "            file.write(f'Area, {area}, Accuracy, {acc}\\n')\n",
    "                \n",
    "    return None\n",
    "                \n",
    "                "
   ]
  },
  {
   "cell_type": "code",
   "execution_count": 149,
   "id": "4415927c",
   "metadata": {},
   "outputs": [],
   "source": [
    "# mask_prediction_loop(subj=\"02\", mode=\"svm\", verbose=False)\n",
    "# mask_prediction_loop(subj=\"07\", mode=\"svm\", verbose=True)\n",
    "#data analysis in other notebook"
   ]
  }
 ],
 "metadata": {
  "kernelspec": {
   "display_name": "Python 3 (ipykernel)",
   "language": "python",
   "name": "python3"
  },
  "language_info": {
   "codemirror_mode": {
    "name": "ipython",
    "version": 3
   },
   "file_extension": ".py",
   "mimetype": "text/x-python",
   "name": "python",
   "nbconvert_exporter": "python",
   "pygments_lexer": "ipython3",
   "version": "3.8.8"
  }
 },
 "nbformat": 4,
 "nbformat_minor": 5
}
